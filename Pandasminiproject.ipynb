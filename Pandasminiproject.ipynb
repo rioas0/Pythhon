{
 "cells": [
  {
   "cell_type": "code",
   "execution_count": null,
   "metadata": {},
   "outputs": [],
   "source": [
    "import pandas as pd\n",
    "import matplotlib.pyplot as plt\n",
    "\n",
    "# [1]. Load masing-masing data dengan pandas\n",
    "retail_data1 = pd.read_csv('https://dqlab-dataset.s3-ap-southeast-1.amazonaws.com/LO4/retail_data_from_1_until_3.csv')\n",
    "retail_data2 = pd.read_csv('https://dqlab-dataset.s3-ap-southeast-1.amazonaws.com/LO4/retail_data_from_4_until_6.csv')\n",
    "retail_data3 = pd.read_csv('https://dqlab-dataset.s3-ap-southeast-1.amazonaws.com/LO4/retail_data_from_7_until_9.csv')\n",
    "retail_data4 = pd.read_csv('https://dqlab-dataset.s3-ap-southeast-1.amazonaws.com/LO4/retail_data_from_10_until_12.csv')\n",
    "\n",
    "# [2]. Pengecekan Data\n",
    "print('PENGECEKAN DATA\\n\\n')\n",
    "#      Cek data sekilas (tampilkan 5 baris teratas)\n",
    "print(retail_data1.head())"
   ]
  },
  {
   "cell_type": "code",
   "execution_count": null,
   "metadata": {},
   "outputs": [],
   "source": [
    "#      Cek list kolom untuk semua dataframe\n",
    "print('Kolom retail_data1: %s' %retail_data1.columns)\n",
    "print('Kolom retail_data2: %s' %retail_data2.columns)\n",
    "print('Kolom retail_data3: %s' %retail_data3.columns)\n",
    "print('Kolom retail_data4: %s' %retail_data4.columns)\n",
    "#      Concat multiple dataframe menjadi 1 dataframe\n",
    "retail_table = pd.concat([retail_data1,retail_data2,retail_data3,retail_data4])\n",
    "print('\\nJumlah baris:', retail_table.shape[0])"
   ]
  },
  {
   "cell_type": "code",
   "execution_count": null,
   "metadata": {},
   "outputs": [],
   "source": [
    "#      Pengecekan dataframe info\n",
    "print('\\nInfo:')\n",
    "print(retail_table.info())"
   ]
  },
  {
   "cell_type": "code",
   "execution_count": null,
   "metadata": {},
   "outputs": [],
   "source": [
    "#      Pengecekan statistik deskriptif\n",
    "print('\\nStatistik deskriptif:\\n', retail_table.describe())"
   ]
  },
  {
   "cell_type": "code",
   "execution_count": null,
   "metadata": {},
   "outputs": [],
   "source": [
    "# [3]. Transformasi Data\n",
    "print('TRANSFORMASI DATA\\n\\n')\n",
    "#      Memastikan data yang memiliki item_price < 0 atau total_price < 0\n",
    "cek = retail_table.loc[(retail_table['item_price'] < 0) | (retail_table['total_price'] < 0)]\n",
    "print('\\nitem_price < 0 atau total_price < 0:\\n', cek)"
   ]
  },
  {
   "cell_type": "code",
   "execution_count": null,
   "metadata": {},
   "outputs": [],
   "source": [
    " # [3]. Transformasi Data\n",
    "print('TRANSFORMASI DATA\\n\\n')\n",
    "# Memastikan data yang memiliki item_price < 0 atau total_price < 0\n",
    "cek = retail_table.loc[(retail_table['item_price'] < 0) | (retail_table['total_price'] < 0)]\n",
    "print('\\nitem_price < 0 atau total_price < 0:\\n', cek)"
   ]
  },
  {
   "cell_type": "code",
   "execution_count": null,
   "metadata": {},
   "outputs": [],
   "source": [
    "# Jika tidak masuk akal datanya dapat dibuang\n",
    "if cek.shape[0] != 0:\n",
    "    retail_table = retail_table.loc[(retail_table['item_price'] > 0) & (retail_table['total_price'] > 0)]"
   ]
  },
  {
   "cell_type": "code",
   "execution_count": null,
   "metadata": {},
   "outputs": [],
   "source": [
    "# Cek apakah masih ada order_id yang bernilai undefined dan delete row tersebut\n",
    "cek = retail_table.loc[retail_table['order_id'] == 'undefined']\n",
    "print('\\norder_id yang bernilai undefined:\\n', cek)"
   ]
  },
  {
   "cell_type": "code",
   "execution_count": null,
   "metadata": {},
   "outputs": [],
   "source": [
    "# Jika ada maka buang baris tersebut\n",
    "if cek.shape[0] != 0:\n",
    "    retail_table = retail_table.loc[retail_table['order_id'] != 'undefined']\n"
   ]
  },
  {
   "cell_type": "code",
   "execution_count": null,
   "metadata": {},
   "outputs": [],
   "source": [
    "# Transform order_id menjadi int64\n",
    "retail_table['order_id'] = retail_table['order_id'].astype('int64')\n",
    "# Transform order_date menjadi datetime Pandas\n",
    "retail_table['order_date'] = pd.to_datetime(retail_table['order_date'])\n",
    "# Cek dataframe info kembali untuk memastikan\n",
    "print('\\nInfo:')\n",
    "print(retail_table.info())"
   ]
  },
  {
   "cell_type": "code",
   "execution_count": null,
   "metadata": {},
   "outputs": [],
   "source": [
    "# Cek statistik deskriptif kembali, untuk memastikan\n",
    "print('\\nStatistik deskriptif:\\n', retail_table.describe())"
   ]
  },
  {
   "cell_type": "code",
   "execution_count": null,
   "metadata": {},
   "outputs": [],
   "source": [
    "# [4]. Filter hanya 5 province terbesar di pulau Jawa\n",
    "print('\\nFILTER 5 PROVINCE TERBESAR DI PULAU JAWA\\n')\n",
    "java = ['DKI Jakarta','Jawa Barat','Jawa Tengah','Jawa Timur','Yogyakarta']\n",
    "retail_table = retail_table.loc[retail_table['province'].isin(java)]\n",
    "#      Untuk memastikan kolom provinsi isinya sudah sama dengan java\n",
    "print(retail_table['province'].unique())"
   ]
  },
  {
   "cell_type": "code",
   "execution_count": null,
   "metadata": {},
   "outputs": [],
   "source": [
    "# [5]. Kelompokkan sesuai dengan order_date dan province kemudian aggregasikan\n",
    "groupby_city_province = retail_table.groupby(['order_date','province']).agg({\n",
    "   'order_id': 'nunique',\n",
    "   'customer_id': 'nunique',\n",
    "   'product_id': 'nunique',\n",
    "   'brand': 'nunique',\n",
    "   'total_price': sum\n",
    "})"
   ]
  },
  {
   "cell_type": "code",
   "execution_count": null,
   "metadata": {},
   "outputs": [],
   "source": [
    "#      Ubah nama kolomnya menjadi 'order','customer','product','brand','GMV'\n",
    "groupby_city_province.columns = ['order','customer','product','brand','GMV']\n",
    "print('\\ngroupby_city_province (10 data teratas):\\n', groupby_city_province.head(10))"
   ]
  },
  {
   "cell_type": "code",
   "execution_count": null,
   "metadata": {},
   "outputs": [],
   "source": [
    "# [6]. Unstack untuk mendapatkan order_date di bagian baris dan province di bagian column\n",
    "unstack_city_province = groupby_city_province.unstack('province').fillna(0)\n",
    "print('\\nunstack_city_province (5 data teratas):\\n', unstack_city_province.head())"
   ]
  },
  {
   "cell_type": "code",
   "execution_count": null,
   "metadata": {},
   "outputs": [],
   "source": [
    "# [7]. Slicing data untuk masing-masing measurement, misal: order\n",
    "idx = pd.IndexSlice\n",
    "by_order = unstack_city_province.loc[:,idx['order']]\n",
    "print('\\nby order (5 data teratas):\\n', by_order.head())"
   ]
  },
  {
   "cell_type": "code",
   "execution_count": null,
   "metadata": {},
   "outputs": [],
   "source": [
    "# [8]. Lakukan resampling pada data tersebut untuk dilakukan perhitungan rata-rata bulanan\n",
    "by_order_monthly_mean = by_order.resample('M').mean()\n",
    "print('\\nby_order_monthly_mean (5 data teratas):\\n', by_order_monthly_mean.head())"
   ]
  },
  {
   "cell_type": "code",
   "execution_count": null,
   "metadata": {},
   "outputs": [],
   "source": [
    "import matplotlib.pyplot as plt\n",
    "\n",
    "# [9]. Plot untuk hasil pada langkah #[8]\n",
    "by_order_monthly_mean.plot(\n",
    "   figsize = (8,5),\n",
    "   title = 'Average Daily order Size in Month View for all Province'\n",
    ")\n",
    "plt.ylabel('avg order size')\n",
    "plt.xlabel('month')\n",
    "plt.show()"
   ]
  },
  {
   "cell_type": "code",
   "execution_count": null,
   "metadata": {
    "scrolled": true
   },
   "outputs": [],
   "source": [
    "# Create figure canvas dan axes for 5 line plots\n",
    "fig, axes = plt.subplots(5, 1, figsize=(8, 25))\n",
    "# Slicing index\n",
    "idx = pd.IndexSlice\n",
    "for i, measurement in enumerate(groupby_city_province.columns):\n",
    "    # Slicing data untuk masing-masing measurement\n",
    "    by_measurement = unstack_city_province.loc[:,idx[measurement]]\n",
    "    # Lakukan resampling pada data tersebut untuk dilakukan perhitungan rata-rata bulanan\n",
    "    by_measurement_monthly_mean = by_measurement.resample('M').mean()\n",
    "    # Plot by_measurement_monthly_mean\n",
    "    by_measurement_monthly_mean.plot(\n",
    "    title = 'Average Daily ' + measurement + ' Size in Month View for all Province',\n",
    "    ax = axes[i]\n",
    "    )\n",
    "    axes[i].set_ylabel('avg ' + measurement + ' size')\n",
    "    axes[i].set_xlabel('month')\n",
    "# Adjust the layout and show the plot\n",
    "plt.tight_layout()\n",
    "plt.show()"
   ]
  },
  {
   "cell_type": "code",
   "execution_count": null,
   "metadata": {},
   "outputs": [],
   "source": []
  },
  {
   "cell_type": "code",
   "execution_count": null,
   "metadata": {},
   "outputs": [],
   "source": []
  }
 ],
 "metadata": {
  "kernelspec": {
   "display_name": "Python 3",
   "language": "python",
   "name": "python3"
  },
  "language_info": {
   "codemirror_mode": {
    "name": "ipython",
    "version": 3
   },
   "file_extension": ".py",
   "mimetype": "text/x-python",
   "name": "python",
   "nbconvert_exporter": "python",
   "pygments_lexer": "ipython3",
   "version": "3.7.0"
  }
 },
 "nbformat": 4,
 "nbformat_minor": 2
}
